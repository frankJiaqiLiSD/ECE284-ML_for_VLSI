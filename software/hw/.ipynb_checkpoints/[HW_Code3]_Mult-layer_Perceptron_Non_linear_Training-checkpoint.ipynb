{
 "cells": [
  {
   "cell_type": "code",
   "execution_count": null,
   "id": "3128ea54",
   "metadata": {},
   "outputs": [],
   "source": [
    "### Training with fancier version ###\n",
    "\n",
    "import torch\n",
    "import torch.nn as nn\n",
    "import torch.nn.functional as F\n",
    "\n",
    "import torch.optim as optim\n",
    "import matplotlib.pyplot as plt\n",
    "\n",
    "class Net(nn.Module): ## nn.Module class is used\n",
    "    def __init__(self):\n",
    "        super(Net, self).__init__()\n",
    "        self.fc1 = nn.Linear(1,16,bias=True)  # in dim, out dim\n",
    "        self.fc2 = nn.Linear(16,16,bias=True)  # in dim, out dim\n",
    "        self.fc3 = nn.Linear(16,1,bias=True)  # in dim, out dim\n",
    "        self.tanh = nn.Tanh()\n",
    "    \n",
    "    def forward(self, x):\n",
    "        x = self.fc1(x)\n",
    "        s1 = self.tanh(x)\n",
    "        x = self.fc2(s1)\n",
    "        s2 = self.tanh(x)\n",
    "        x = self.fc3(s2)\n",
    "        return x\n",
    "\n",
    "net = Net()\n",
    "\n",
    "print(net)\n",
    "print(list(net.parameters())) # parameters are randomized\n",
    "\n",
    "\n",
    "#def criterion(out, label):\n",
    "#    return (label - out)**2\n",
    "criterion = nn.MSELoss()\n",
    "\n",
    "\n",
    "# optimizer = optim.SGD(net.parameters(), lr=1e-8, momentum=0.5)\n",
    "optimizer = optim.Adam(net.parameters(), lr=1e-2)\n",
    "\n",
    "\n",
    "\n",
    "data = [(1.0,3.0), (2.0,6.0), (3.0,10.0), (4.0,15.0), (5.0,22.0), (6.0,32.0)]\n",
    "\n",
    "# Split data into x and y\n",
    "x_values, y_values = zip(*data)\n",
    "\n",
    "# Plotting\n",
    "plt.figure(figsize=(8, 6))\n",
    "plt.plot(x_values, y_values, marker='o', linestyle='-', color='b')\n",
    "plt.xlabel('X values')\n",
    "plt.ylabel('Y values')\n",
    "plt.grid(True)\n",
    "plt.show()"
   ]
  },
  {
   "cell_type": "code",
   "execution_count": null,
   "id": "fleet-packet",
   "metadata": {},
   "outputs": [],
   "source": [
    "for epoch in range(1000): # 0 - 2999\n",
    "    for i, current_data in enumerate(data):\n",
    "        X, Y = current_data\n",
    "        X, Y = torch.FloatTensor([X]), torch.FloatTensor([Y])\n",
    "        optimizer.zero_grad()   \n",
    "        outputs = net(X)\n",
    "        loss = criterion(outputs, Y)\n",
    "        loss.backward()\n",
    "        optimizer.step()    ## This line is equivalent to \"W = W - lr* W.grad\"\n",
    "        if((epoch+1) % 500 == 0):\n",
    "          print(\"Epoch {} - loss: {}\".format(epoch, loss))\n",
    "\n",
    "\n",
    "### Test the trained network ###            \n",
    "for i, current_data in enumerate(data):\n",
    "    X, Y = current_data\n",
    "    X, Y = torch.FloatTensor([X]), torch.FloatTensor([Y])  \n",
    "    out = net(torch.FloatTensor(X))  \n",
    "    print(\"when x = {}, y = {}\".format(X, out))"
   ]
  },
  {
   "cell_type": "code",
   "execution_count": null,
   "id": "fc3bf460",
   "metadata": {},
   "outputs": [],
   "source": [
    "X"
   ]
  },
  {
   "cell_type": "code",
   "execution_count": null,
   "id": "prostate-survivor",
   "metadata": {},
   "outputs": [],
   "source": [
    "W = torch.tensor([1.0], requires_grad=True)\n",
    "W = W*2\n",
    "label = 1.0\n",
    "loss = W*5 - label \n",
    "loss.backward()\n",
    "W.grad\n",
    "W.detach()"
   ]
  }
 ],
 "metadata": {
  "kernelspec": {
   "display_name": "Python 3 (ipykernel)",
   "language": "python",
   "name": "python3"
  },
  "language_info": {
   "codemirror_mode": {
    "name": "ipython",
    "version": 3
   },
   "file_extension": ".py",
   "mimetype": "text/x-python",
   "name": "python",
   "nbconvert_exporter": "python",
   "pygments_lexer": "ipython3",
   "version": "3.11.9"
  }
 },
 "nbformat": 4,
 "nbformat_minor": 5
}
